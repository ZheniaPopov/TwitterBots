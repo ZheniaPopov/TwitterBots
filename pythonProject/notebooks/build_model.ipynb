{
 "cells": [
  {
   "cell_type": "code",
   "execution_count": 1,
   "id": "6fbb7af3",
   "metadata": {},
   "outputs": [],
   "source": [
    "import pandas as pd\n",
    "import numpy as np\n",
    "from scipy.stats import loguniform\n",
    "\n",
    "from sklearn.linear_model import LogisticRegression\n",
    "from sklearn.ensemble import RandomForestClassifier\n",
    "from sklearn.tree import DecisionTreeClassifier\n",
    "from sklearn.neighbors import KNeighborsClassifier\n",
    "from sklearn.model_selection import RepeatedStratifiedKFold, RandomizedSearchCV, cross_val_score\n",
    "\n",
    "import seaborn as sns\n",
    "import matplotlib.pyplot as plt\n",
    "\n",
    "from sqlalchemy import create_engine\n",
    "\n",
    "import os\n",
    "import json\n",
    "from IPython.display import display\n",
    "\n",
    "import warnings\n",
    "warnings.filterwarnings('ignore')"
   ]
  },
  {
   "cell_type": "code",
   "execution_count": 2,
   "id": "676cd7c9",
   "metadata": {},
   "outputs": [],
   "source": [
    "pd.set_option(\"display.max_rows\", 100)\n",
    "pd.set_option(\"display.max_columns\", 100)"
   ]
  },
  {
   "cell_type": "code",
   "execution_count": 3,
   "id": "71ae37de",
   "metadata": {},
   "outputs": [],
   "source": [
    "# подключаемся к базе для чтения информации о пользователях \n",
    "DB_FOLDER = 'sqlite:///../data/db/'\n",
    "DB_NAME = 'twitter_users.db'\n",
    "DB_PATH = DB_FOLDER + DB_NAME\n",
    "TABLE_NAME = 'users'\n",
    "\n",
    "engine = create_engine(DB_PATH)"
   ]
  },
  {
   "cell_type": "code",
   "execution_count": 4,
   "id": "a5f6f073",
   "metadata": {},
   "outputs": [],
   "source": [
    "query = 'SELECT * from {}'.format(TABLE_NAME)\n",
    "df_users = pd.read_sql(query, engine)"
   ]
  },
  {
   "cell_type": "code",
   "execution_count": 5,
   "id": "683c096d",
   "metadata": {},
   "outputs": [
    {
     "data": {
      "text/html": [
       "<div>\n",
       "<style scoped>\n",
       "    .dataframe tbody tr th:only-of-type {\n",
       "        vertical-align: middle;\n",
       "    }\n",
       "\n",
       "    .dataframe tbody tr th {\n",
       "        vertical-align: top;\n",
       "    }\n",
       "\n",
       "    .dataframe thead th {\n",
       "        text-align: right;\n",
       "    }\n",
       "</style>\n",
       "<table border=\"1\" class=\"dataframe\">\n",
       "  <thead>\n",
       "    <tr style=\"text-align: right;\">\n",
       "      <th></th>\n",
       "      <th>name</th>\n",
       "      <th>username</th>\n",
       "      <th>description</th>\n",
       "      <th>verified</th>\n",
       "      <th>url</th>\n",
       "      <th>profile_image_url</th>\n",
       "      <th>created_at</th>\n",
       "      <th>id</th>\n",
       "      <th>protected</th>\n",
       "      <th>location</th>\n",
       "      <th>pinned_tweet_id</th>\n",
       "      <th>followers_count</th>\n",
       "      <th>following_count</th>\n",
       "      <th>tweet_count</th>\n",
       "      <th>listed_count</th>\n",
       "      <th>bot</th>\n",
       "    </tr>\n",
       "  </thead>\n",
       "  <tbody>\n",
       "    <tr>\n",
       "      <th>0</th>\n",
       "      <td>Matt Lieber Is Bot</td>\n",
       "      <td>mattlieberisbot</td>\n",
       "      <td>Retired, for good this time • Inspired by the ...</td>\n",
       "      <td>0</td>\n",
       "      <td>https://t.co/oQKxig8kMF</td>\n",
       "      <td>https://pbs.twimg.com/profile_images/671119389...</td>\n",
       "      <td>2015-11-20T18:53:22.000Z</td>\n",
       "      <td>4303727112</td>\n",
       "      <td>0</td>\n",
       "      <td>None</td>\n",
       "      <td>None</td>\n",
       "      <td>876</td>\n",
       "      <td>0</td>\n",
       "      <td>1182</td>\n",
       "      <td>16</td>\n",
       "      <td>1</td>\n",
       "    </tr>\n",
       "    <tr>\n",
       "      <th>1</th>\n",
       "      <td>single cell papers</td>\n",
       "      <td>sc_papers</td>\n",
       "      <td></td>\n",
       "      <td>0</td>\n",
       "      <td></td>\n",
       "      <td>https://abs.twimg.com/sticky/default_profile_i...</td>\n",
       "      <td>2015-02-25T20:11:25.000Z</td>\n",
       "      <td>3063139353</td>\n",
       "      <td>0</td>\n",
       "      <td>None</td>\n",
       "      <td>None</td>\n",
       "      <td>325</td>\n",
       "      <td>0</td>\n",
       "      <td>4031</td>\n",
       "      <td>12</td>\n",
       "      <td>1</td>\n",
       "    </tr>\n",
       "  </tbody>\n",
       "</table>\n",
       "</div>"
      ],
      "text/plain": [
       "                 name         username  \\\n",
       "0  Matt Lieber Is Bot  mattlieberisbot   \n",
       "1  single cell papers        sc_papers   \n",
       "\n",
       "                                         description  verified  \\\n",
       "0  Retired, for good this time • Inspired by the ...         0   \n",
       "1                                                            0   \n",
       "\n",
       "                       url                                  profile_image_url  \\\n",
       "0  https://t.co/oQKxig8kMF  https://pbs.twimg.com/profile_images/671119389...   \n",
       "1                           https://abs.twimg.com/sticky/default_profile_i...   \n",
       "\n",
       "                 created_at          id  protected location pinned_tweet_id  \\\n",
       "0  2015-11-20T18:53:22.000Z  4303727112          0     None            None   \n",
       "1  2015-02-25T20:11:25.000Z  3063139353          0     None            None   \n",
       "\n",
       "   followers_count  following_count  tweet_count  listed_count  bot  \n",
       "0              876                0         1182            16    1  \n",
       "1              325                0         4031            12    1  "
      ]
     },
     "execution_count": 5,
     "metadata": {},
     "output_type": "execute_result"
    }
   ],
   "source": [
    "df_users.head(2)"
   ]
  },
  {
   "cell_type": "code",
   "execution_count": 6,
   "id": "6d01edad",
   "metadata": {},
   "outputs": [
    {
     "data": {
      "text/plain": [
       "name                    0\n",
       "username                0\n",
       "description             0\n",
       "verified                0\n",
       "url                     0\n",
       "profile_image_url       0\n",
       "created_at              0\n",
       "id                      0\n",
       "protected               0\n",
       "location              694\n",
       "pinned_tweet_id      1497\n",
       "followers_count         0\n",
       "following_count         0\n",
       "tweet_count             0\n",
       "listed_count            0\n",
       "bot                     0\n",
       "dtype: int64"
      ]
     },
     "execution_count": 6,
     "metadata": {},
     "output_type": "execute_result"
    }
   ],
   "source": [
    "df_users.isnull().sum()"
   ]
  },
  {
   "cell_type": "code",
   "execution_count": 7,
   "id": "6a4d0bec",
   "metadata": {},
   "outputs": [
    {
     "data": {
      "text/plain": [
       "0    1288\n",
       "1     731\n",
       "Name: bot, dtype: int64"
      ]
     },
     "execution_count": 7,
     "metadata": {},
     "output_type": "execute_result"
    }
   ],
   "source": [
    "df_users['bot'].value_counts()"
   ]
  },
  {
   "cell_type": "code",
   "execution_count": 8,
   "id": "966ad937",
   "metadata": {},
   "outputs": [],
   "source": [
    "df_users['created_at'] = pd.to_datetime(df_users['created_at']).dt.tz_localize(None)"
   ]
  },
  {
   "cell_type": "code",
   "execution_count": 9,
   "id": "30d0cc37",
   "metadata": {},
   "outputs": [
    {
     "data": {
      "text/plain": [
       "count                    2019\n",
       "unique                   2019\n",
       "top       2009-01-23 08:01:11\n",
       "freq                        1\n",
       "first     2006-07-31 18:30:53\n",
       "last      2016-02-17 21:01:18\n",
       "Name: created_at, dtype: object"
      ]
     },
     "execution_count": 9,
     "metadata": {},
     "output_type": "execute_result"
    }
   ],
   "source": [
    "df_users['created_at'].describe()"
   ]
  },
  {
   "cell_type": "code",
   "execution_count": 10,
   "id": "0df420d0",
   "metadata": {},
   "outputs": [],
   "source": [
    "df_users['bot_desc'] = df_users['bot'].apply(lambda x: 'human' if x == 0 else 'bot')"
   ]
  },
  {
   "cell_type": "markdown",
   "id": "6767ea30",
   "metadata": {},
   "source": [
    "#### Создаем новые дополнительные описательные характеристики"
   ]
  },
  {
   "cell_type": "code",
   "execution_count": 11,
   "id": "3250cce4",
   "metadata": {},
   "outputs": [],
   "source": [
    "# длина поля description\n",
    "df_users['desc_len'] = df_users['description'].apply(lambda x: len(x))\n",
    "\n",
    "# \"возраст\" аккаунта (в днях)\n",
    "df_users['profile_age'] = (pd.Timestamp('now') - df_users['created_at']).dt.days\n",
    "\n",
    "# наличие указанной локации в профиле\n",
    "df_users['has_location'] = df_users['location'].apply(lambda x: 0 if pd.isnull(x) else 1)\n",
    "\n",
    "# наличие url в профиле\n",
    "df_users['has_url'] = df_users['url'].apply(lambda x: 1 if len(x) > 0 else 0)"
   ]
  },
  {
   "cell_type": "code",
   "execution_count": 12,
   "id": "cdcf2826",
   "metadata": {},
   "outputs": [
    {
     "data": {
      "text/html": [
       "<div>\n",
       "<style scoped>\n",
       "    .dataframe tbody tr th:only-of-type {\n",
       "        vertical-align: middle;\n",
       "    }\n",
       "\n",
       "    .dataframe tbody tr th {\n",
       "        vertical-align: top;\n",
       "    }\n",
       "\n",
       "    .dataframe thead th {\n",
       "        text-align: right;\n",
       "    }\n",
       "</style>\n",
       "<table border=\"1\" class=\"dataframe\">\n",
       "  <thead>\n",
       "    <tr style=\"text-align: right;\">\n",
       "      <th></th>\n",
       "      <th>name</th>\n",
       "      <th>username</th>\n",
       "      <th>description</th>\n",
       "      <th>verified</th>\n",
       "      <th>url</th>\n",
       "      <th>profile_image_url</th>\n",
       "      <th>created_at</th>\n",
       "      <th>id</th>\n",
       "      <th>protected</th>\n",
       "      <th>location</th>\n",
       "      <th>pinned_tweet_id</th>\n",
       "      <th>followers_count</th>\n",
       "      <th>following_count</th>\n",
       "      <th>tweet_count</th>\n",
       "      <th>listed_count</th>\n",
       "      <th>bot</th>\n",
       "      <th>bot_desc</th>\n",
       "      <th>desc_len</th>\n",
       "      <th>profile_age</th>\n",
       "      <th>has_location</th>\n",
       "      <th>has_url</th>\n",
       "    </tr>\n",
       "  </thead>\n",
       "  <tbody>\n",
       "    <tr>\n",
       "      <th>0</th>\n",
       "      <td>Matt Lieber Is Bot</td>\n",
       "      <td>mattlieberisbot</td>\n",
       "      <td>Retired, for good this time • Inspired by the ...</td>\n",
       "      <td>0</td>\n",
       "      <td>https://t.co/oQKxig8kMF</td>\n",
       "      <td>https://pbs.twimg.com/profile_images/671119389...</td>\n",
       "      <td>2015-11-20 18:53:22</td>\n",
       "      <td>4303727112</td>\n",
       "      <td>0</td>\n",
       "      <td>None</td>\n",
       "      <td>None</td>\n",
       "      <td>876</td>\n",
       "      <td>0</td>\n",
       "      <td>1182</td>\n",
       "      <td>16</td>\n",
       "      <td>1</td>\n",
       "      <td>bot</td>\n",
       "      <td>95</td>\n",
       "      <td>2030</td>\n",
       "      <td>0</td>\n",
       "      <td>1</td>\n",
       "    </tr>\n",
       "    <tr>\n",
       "      <th>1</th>\n",
       "      <td>single cell papers</td>\n",
       "      <td>sc_papers</td>\n",
       "      <td></td>\n",
       "      <td>0</td>\n",
       "      <td></td>\n",
       "      <td>https://abs.twimg.com/sticky/default_profile_i...</td>\n",
       "      <td>2015-02-25 20:11:25</td>\n",
       "      <td>3063139353</td>\n",
       "      <td>0</td>\n",
       "      <td>None</td>\n",
       "      <td>None</td>\n",
       "      <td>325</td>\n",
       "      <td>0</td>\n",
       "      <td>4031</td>\n",
       "      <td>12</td>\n",
       "      <td>1</td>\n",
       "      <td>bot</td>\n",
       "      <td>0</td>\n",
       "      <td>2298</td>\n",
       "      <td>0</td>\n",
       "      <td>0</td>\n",
       "    </tr>\n",
       "    <tr>\n",
       "      <th>2</th>\n",
       "      <td>lucarivera16</td>\n",
       "      <td>lucarivera16</td>\n",
       "      <td>Inspiring cooks everywhere since 1956.</td>\n",
       "      <td>0</td>\n",
       "      <td></td>\n",
       "      <td>https://pbs.twimg.com/profile_images/718131475...</td>\n",
       "      <td>2015-01-01 17:44:39</td>\n",
       "      <td>2955142070</td>\n",
       "      <td>0</td>\n",
       "      <td>Dublin, United States</td>\n",
       "      <td>None</td>\n",
       "      <td>6</td>\n",
       "      <td>0</td>\n",
       "      <td>202</td>\n",
       "      <td>1</td>\n",
       "      <td>1</td>\n",
       "      <td>bot</td>\n",
       "      <td>38</td>\n",
       "      <td>2353</td>\n",
       "      <td>1</td>\n",
       "      <td>0</td>\n",
       "    </tr>\n",
       "  </tbody>\n",
       "</table>\n",
       "</div>"
      ],
      "text/plain": [
       "                 name         username  \\\n",
       "0  Matt Lieber Is Bot  mattlieberisbot   \n",
       "1  single cell papers        sc_papers   \n",
       "2        lucarivera16     lucarivera16   \n",
       "\n",
       "                                         description  verified  \\\n",
       "0  Retired, for good this time • Inspired by the ...         0   \n",
       "1                                                            0   \n",
       "2             Inspiring cooks everywhere since 1956.         0   \n",
       "\n",
       "                       url                                  profile_image_url  \\\n",
       "0  https://t.co/oQKxig8kMF  https://pbs.twimg.com/profile_images/671119389...   \n",
       "1                           https://abs.twimg.com/sticky/default_profile_i...   \n",
       "2                           https://pbs.twimg.com/profile_images/718131475...   \n",
       "\n",
       "           created_at          id  protected               location  \\\n",
       "0 2015-11-20 18:53:22  4303727112          0                   None   \n",
       "1 2015-02-25 20:11:25  3063139353          0                   None   \n",
       "2 2015-01-01 17:44:39  2955142070          0  Dublin, United States   \n",
       "\n",
       "  pinned_tweet_id  followers_count  following_count  tweet_count  \\\n",
       "0            None              876                0         1182   \n",
       "1            None              325                0         4031   \n",
       "2            None                6                0          202   \n",
       "\n",
       "   listed_count  bot bot_desc  desc_len  profile_age  has_location  has_url  \n",
       "0            16    1      bot        95         2030             0        1  \n",
       "1            12    1      bot         0         2298             0        0  \n",
       "2             1    1      bot        38         2353             1        0  "
      ]
     },
     "execution_count": 12,
     "metadata": {},
     "output_type": "execute_result"
    }
   ],
   "source": [
    "df_users.head(3)"
   ]
  },
  {
   "cell_type": "code",
   "execution_count": 13,
   "id": "6dac5af6",
   "metadata": {},
   "outputs": [],
   "source": [
    "# выбираем переменные из данных о пользователях, которые будем использовать при обучении моделей\n",
    "\n",
    "important_cols = [\n",
    "    'followers_count',\n",
    "    'following_count', \n",
    "    'tweet_count', \n",
    "    'listed_count', \n",
    "    'desc_len',\n",
    "    'profile_age',\n",
    "    'protected', \n",
    "    'verified',\n",
    "    'has_location',\n",
    "    'has_url'\n",
    "]\n",
    "\n",
    "target = ['bot']"
   ]
  },
  {
   "cell_type": "markdown",
   "id": "a527ea13",
   "metadata": {},
   "source": [
    "#### Визуализируем выбранные переменные, чтобы убедиться, что они значимы для моделирования целевой переменной"
   ]
  },
  {
   "cell_type": "code",
   "execution_count": 14,
   "id": "67d9f431",
   "metadata": {},
   "outputs": [
    {
     "data": {
      "image/png": "[encoded data removed]",
      "text/plain": [
       "<Figure size 720x360 with 1 Axes>"
      ]
     },
     "metadata": {
      "needs_background": "light"
     },
     "output_type": "display_data"
    }
   ],
   "source": [
    "fig, ax = plt.subplots()\n",
    "fig.set_size_inches(10, 5)\n",
    "sns.countplot(data=df_users, y='has_location', hue='bot_desc', ax=ax)\n",
    "plt.legend(title='')\n",
    "plt.show()"
   ]
  },
  {
   "cell_type": "code",
   "execution_count": 15,
   "id": "1c5e4e77",
   "metadata": {},
   "outputs": [
    {
     "data": {
      "image/png": "[encoded data removed]",
      "text/plain": [
       "<Figure size 720x360 with 1 Axes>"
      ]
     },
     "metadata": {
      "needs_background": "light"
     },
     "output_type": "display_data"
    }
   ],
   "source": [
    "fig, ax = plt.subplots()\n",
    "fig.set_size_inches(10, 5)\n",
    "sns.countplot(data=df_users, y='has_url', hue='bot_desc', ax=ax)\n",
    "plt.legend(title='')\n",
    "plt.show()"
   ]
  },
  {
   "cell_type": "code",
   "execution_count": 16,
   "id": "235e4131",
   "metadata": {},
   "outputs": [
    {
     "data": {
      "image/png": "[encoded data removed]",
      "text/plain": [
       "<Figure size 720x360 with 1 Axes>"
      ]
     },
     "metadata": {
      "needs_background": "light"
     },
     "output_type": "display_data"
    }
   ],
   "source": [
    "fig, ax = plt.subplots()\n",
    "fig.set_size_inches(10, 5)\n",
    "sns.countplot(data=df_users, y='protected', hue='bot_desc', ax=ax)\n",
    "plt.legend(title='')\n",
    "plt.show()"
   ]
  },
  {
   "cell_type": "code",
   "execution_count": 17,
   "id": "c51e7117",
   "metadata": {},
   "outputs": [
    {
     "data": {
      "image/png": "[encoded data removed]",
      "text/plain": [
       "<Figure size 720x360 with 1 Axes>"
      ]
     },
     "metadata": {
      "needs_background": "light"
     },
     "output_type": "display_data"
    }
   ],
   "source": [
    "fig, ax = plt.subplots()\n",
    "fig.set_size_inches(10, 5)\n",
    "sns.countplot(data=df_users, y='verified', hue='bot_desc', ax=ax)\n",
    "plt.legend(title='')\n",
    "plt.show()"
   ]
  },
  {
   "cell_type": "code",
   "execution_count": 18,
   "id": "2d29a6b9",
   "metadata": {},
   "outputs": [
    {
     "data": {
      "image/png": "[encoded data removed]",
      "text/plain": [
       "<Figure size 574.875x360 with 1 Axes>"
      ]
     },
     "metadata": {
      "needs_background": "light"
     },
     "output_type": "display_data"
    }
   ],
   "source": [
    "fig = sns.displot(data=df_users, x='profile_age', hue='bot_desc', height=5, aspect=1.4)\n",
    "fig._legend.set_title('')\n",
    "plt.show()"
   ]
  },
  {
   "cell_type": "code",
   "execution_count": 19,
   "id": "297891ba",
   "metadata": {},
   "outputs": [
    {
     "data": {
      "image/png": "[encoded data removed]",
      "text/plain": [
       "<Figure size 574.875x360 with 1 Axes>"
      ]
     },
     "metadata": {
      "needs_background": "light"
     },
     "output_type": "display_data"
    }
   ],
   "source": [
    "fig = sns.displot(data=df_users, x='desc_len', hue='bot_desc', height=5, aspect=1.4)\n",
    "fig._legend.set_title('')\n",
    "plt.show()"
   ]
  },
  {
   "cell_type": "code",
   "execution_count": 20,
   "id": "60f87baf",
   "metadata": {},
   "outputs": [
    {
     "data": {
      "text/plain": [
       "count      2019.000000\n",
       "mean       4027.214958\n",
       "std       18436.910903\n",
       "min           0.000000\n",
       "25%           5.000000\n",
       "50%          40.000000\n",
       "75%        1170.500000\n",
       "max      543082.000000\n",
       "Name: listed_count, dtype: float64"
      ]
     },
     "execution_count": 20,
     "metadata": {},
     "output_type": "execute_result"
    }
   ],
   "source": [
    "df_users['listed_count'].describe()"
   ]
  },
  {
   "cell_type": "code",
   "execution_count": 21,
   "id": "bbfb061d",
   "metadata": {},
   "outputs": [
    {
     "data": {
      "image/png": "[encoded data removed]",
      "text/plain": [
       "<Figure size 574.875x360 with 1 Axes>"
      ]
     },
     "metadata": {
      "needs_background": "light"
     },
     "output_type": "display_data"
    }
   ],
   "source": [
    "fig = sns.displot(data=df_users, x='listed_count', hue='bot_desc', height=5, aspect=1.4)\n",
    "fig._legend.set_title('')\n",
    "plt.xlim(0, 1500)\n",
    "plt.show()"
   ]
  },
  {
   "cell_type": "code",
   "execution_count": 22,
   "id": "d5558fd1",
   "metadata": {},
   "outputs": [
    {
     "data": {
      "text/plain": [
       "count    2.019000e+03\n",
       "mean     1.803953e+06\n",
       "std      8.795507e+06\n",
       "min      0.000000e+00\n",
       "25%      1.410000e+02\n",
       "50%      1.252000e+03\n",
       "75%      9.725450e+04\n",
       "max      1.295859e+08\n",
       "Name: followers_count, dtype: float64"
      ]
     },
     "execution_count": 22,
     "metadata": {},
     "output_type": "execute_result"
    }
   ],
   "source": [
    "df_users['followers_count'].describe()"
   ]
  },
  {
   "cell_type": "code",
   "execution_count": 23,
   "id": "2eee8bab",
   "metadata": {},
   "outputs": [
    {
     "data": {
      "image/png": "[encoded data removed]",
      "text/plain": [
       "<Figure size 574.875x360 with 1 Axes>"
      ]
     },
     "metadata": {
      "needs_background": "light"
     },
     "output_type": "display_data"
    }
   ],
   "source": [
    "fig = sns.displot(data=df_users, x='following_count', hue='bot_desc', height=5, aspect=1.4)\n",
    "fig._legend.set_title('')\n",
    "plt.xlim(0, 3000)\n",
    "plt.show()"
   ]
  },
  {
   "cell_type": "code",
   "execution_count": 24,
   "id": "20ad003b",
   "metadata": {},
   "outputs": [
    {
     "data": {
      "image/png": "[encoded data removed]",
      "text/plain": [
       "<Figure size 574.875x360 with 1 Axes>"
      ]
     },
     "metadata": {
      "needs_background": "light"
     },
     "output_type": "display_data"
    }
   ],
   "source": [
    "fig = sns.displot(data=df_users, x='followers_count', hue='bot_desc', height=5, aspect=1.4)\n",
    "fig._legend.set_title('')\n",
    "plt.xlim(0, 120000)\n",
    "plt.show()"
   ]
  },
  {
   "cell_type": "code",
   "execution_count": 25,
   "id": "35befe2a",
   "metadata": {},
   "outputs": [
    {
     "data": {
      "image/png": "[encoded data removed]",
      "text/plain": [
       "<Figure size 574.875x360 with 1 Axes>"
      ]
     },
     "metadata": {
      "needs_background": "light"
     },
     "output_type": "display_data"
    }
   ],
   "source": [
    "fig = sns.displot(data=df_users, x='desc_len', hue='bot_desc', height=5, aspect=1.4)\n",
    "fig._legend.set_title('')\n",
    "# plt.xlim(0, 120000)\n",
    "plt.show()"
   ]
  },
  {
   "cell_type": "code",
   "execution_count": 26,
   "id": "b69799d7",
   "metadata": {},
   "outputs": [],
   "source": [
    "# задаем независимые переменные Х и зависимую (целевую) переменную у\n",
    "\n",
    "X, y = df_users[important_cols], df_users[target]"
   ]
  },
  {
   "cell_type": "code",
   "execution_count": 27,
   "id": "7c455f84",
   "metadata": {},
   "outputs": [
    {
     "data": {
      "text/plain": [
       "({'C': 4.156876569947477}, 0.8845918920250234)"
      ]
     },
     "execution_count": 27,
     "metadata": {},
     "output_type": "execute_result"
    }
   ],
   "source": [
    "# подбираем параметры для первой модели (Логистическая регрессия)\n",
    "\n",
    "model_LR = LogisticRegression(solver='liblinear', penalty='l1', random_state=1)\n",
    "cv = RepeatedStratifiedKFold(n_splits=10, n_repeats=3, random_state=1)\n",
    "\n",
    "space_LR = {\n",
    "    'C': loguniform(0.01, 10)\n",
    "}\n",
    "\n",
    "search_LR = RandomizedSearchCV(\n",
    "    model_LR,\n",
    "    space_LR, \n",
    "    n_iter=500, \n",
    "    scoring='accuracy', \n",
    "    n_jobs=-1, \n",
    "    cv=cv, \n",
    "    refit=False, \n",
    "    random_state=1\n",
    ")\n",
    "\n",
    "result_LR = search_LR.fit(X, y)\n",
    "\n",
    "# лучшие параметры модели\n",
    "result_LR.best_params_, result_LR.best_score_"
   ]
  },
  {
   "cell_type": "code",
   "execution_count": 28,
   "id": "b56f43f7",
   "metadata": {},
   "outputs": [
    {
     "name": "stdout",
     "output_type": "stream",
     "text": [
      "Accuracy for Logistic Regression model on 10-fold CV: 0.8866 +- 0.0248\n"
     ]
    }
   ],
   "source": [
    "# строим модель с наилучшими параметрами, подобранными на предыдущем шаге, и тестируем на кросс-валидационной выборке\n",
    "\n",
    "model1 = LogisticRegression(solver='liblinear', penalty='l1', C=7.84, random_state=1)\n",
    "scores1 = cross_val_score(model1, X, y, cv=10)\n",
    "\n",
    "print('Accuracy for Logistic Regression model on 10-fold CV: {:.4f} +- {:.4f}'.format(scores1.mean(), scores1.std()))"
   ]
  },
  {
   "cell_type": "code",
   "execution_count": null,
   "id": "e7d6c53a",
   "metadata": {},
   "outputs": [],
   "source": []
  },
  {
   "cell_type": "code",
   "execution_count": 29,
   "id": "f6e10128",
   "metadata": {},
   "outputs": [
    {
     "data": {
      "text/plain": [
       "({'n_estimators': 600,\n",
       "  'min_samples_split': 10,\n",
       "  'min_samples_leaf': 2,\n",
       "  'min_impurity_decrease': 0,\n",
       "  'max_features': 'auto',\n",
       "  'max_depth': 50},\n",
       " 0.9194300773360918)"
      ]
     },
     "execution_count": 29,
     "metadata": {},
     "output_type": "execute_result"
    }
   ],
   "source": [
    "# подбираем параметры для второй модели (Случайный лес)\n",
    "\n",
    "model_RF = RandomForestClassifier(bootstrap=True, random_state=1)\n",
    "cv = RepeatedStratifiedKFold(n_splits=10, n_repeats=3, random_state=1)\n",
    "\n",
    "space_RF = {\n",
    "    'max_depth': [20, 30, 40, 50, 60, 70, 80, 90, 100],\n",
    "    'max_features': ['auto', 'sqrt'],\n",
    "    'min_samples_leaf': [2, 4, 6, 8],\n",
    "    'min_samples_split': [2, 5, 10],\n",
    "    'n_estimators': [200, 400, 600, 800, 1000],\n",
    "    'min_impurity_decrease': [0, 0.001, 0.01, 0.02, 0.05, 0.1, 0.2]\n",
    "}\n",
    "\n",
    "search_RF = RandomizedSearchCV(\n",
    "    model_RF,\n",
    "    space_RF, \n",
    "    n_iter=500, \n",
    "    scoring='accuracy', \n",
    "    n_jobs=-1, \n",
    "    cv=cv, \n",
    "    refit=False, \n",
    "    random_state=1\n",
    ")\n",
    "\n",
    "result_RF = search_RF.fit(X, y)\n",
    "\n",
    "# лучшие параметры модели\n",
    "result_RF.best_params_, result_RF.best_score_"
   ]
  },
  {
   "cell_type": "code",
   "execution_count": 30,
   "id": "03ca02af",
   "metadata": {},
   "outputs": [
    {
     "name": "stdout",
     "output_type": "stream",
     "text": [
      "Accuracy for Random Forest model on 10-fold CV: 0.9163 +- 0.0176\n"
     ]
    }
   ],
   "source": [
    "# строим модель с наилучшими параметрами, подобранными на предыдущем шаге, и тестируем на кросс-валидационной выборке\n",
    "\n",
    "model2 = RandomForestClassifier(\n",
    "    n_estimators=600, min_samples_split=2, min_samples_leaf=4, max_features='sqrt', max_depth=80, random_state=1, bootstrap=True)\n",
    "\n",
    "scores2 = cross_val_score(model2, X, y, cv=10)\n",
    "\n",
    "print('Accuracy for Random Forest model on 10-fold CV: {:.4f} +- {:.4f}'.format(scores2.mean(), scores2.std()))"
   ]
  },
  {
   "cell_type": "code",
   "execution_count": null,
   "id": "e0011c8c",
   "metadata": {},
   "outputs": [],
   "source": []
  },
  {
   "cell_type": "code",
   "execution_count": 31,
   "id": "4dadd98b",
   "metadata": {},
   "outputs": [
    {
     "data": {
      "text/plain": [
       "({'weights': 'distance', 'n_neighbors': 5, 'algorithm': 'auto'},\n",
       " 0.9194300773360918)"
      ]
     },
     "execution_count": 31,
     "metadata": {},
     "output_type": "execute_result"
    }
   ],
   "source": [
    "# подбираем параметры для третьей модели (К ближайших соседей)\n",
    "\n",
    "model_KNN = KNeighborsClassifier()\n",
    "cv = RepeatedStratifiedKFold(n_splits=10, n_repeats=3, random_state=1)\n",
    "\n",
    "space_KNN = {\n",
    "    'n_neighbors': [5, 8, 10, 12, 15, 20, 25],\n",
    "    'weights': ['uniform', 'distance'],\n",
    "    'algorithm': ['auto', 'ball_tree', 'kd_tree', 'brute']\n",
    "}\n",
    "\n",
    "search_KNN = RandomizedSearchCV(\n",
    "    model_KNN,\n",
    "    space_KNN, \n",
    "    n_iter=500, \n",
    "    scoring='accuracy', \n",
    "    n_jobs=-1, \n",
    "    cv=cv, \n",
    "    refit=False, \n",
    "    random_state=1\n",
    ")\n",
    "\n",
    "result_KNN = search_KNN.fit(X, y)\n",
    "\n",
    "# лучшие параметры модели\n",
    "result_KNN.best_params_, result_RF.best_score_"
   ]
  },
  {
   "cell_type": "code",
   "execution_count": 32,
   "id": "06ef65fb",
   "metadata": {},
   "outputs": [
    {
     "name": "stdout",
     "output_type": "stream",
     "text": [
      "Accuracy for K Nearest Neighbors model on 10-fold CV: 0.8836 +- 0.0232\n"
     ]
    }
   ],
   "source": [
    "# строим модель с наилучшими параметрами, подобранными на предыдущем шаге, и тестируем на кросс-валидационной выборке\n",
    "\n",
    "model3 = KNeighborsClassifier(\n",
    "    weights='distance', n_neighbors=5, algorithm='auto')\n",
    "\n",
    "scores3 = cross_val_score(model3, X, y, cv=10)\n",
    "\n",
    "print('Accuracy for K Nearest Neighbors model on 10-fold CV: {:.4f} +- {:.4f}'.format(scores3.mean(), scores3.std()))"
   ]
  },
  {
   "cell_type": "code",
   "execution_count": null,
   "id": "dce501f2",
   "metadata": {},
   "outputs": [],
   "source": []
  },
  {
   "cell_type": "code",
   "execution_count": 33,
   "id": "c5079a47",
   "metadata": {},
   "outputs": [
    {
     "data": {
      "text/plain": [
       "({'splitter': 'best',\n",
       "  'min_samples_split': 2,\n",
       "  'min_samples_leaf': 8,\n",
       "  'max_depth': 20,\n",
       "  'criterion': 'entropy'},\n",
       " 0.8940109682610053)"
      ]
     },
     "execution_count": 33,
     "metadata": {},
     "output_type": "execute_result"
    }
   ],
   "source": [
    "# подбираем параметры для четвертой модели (Дерево решений)\n",
    "\n",
    "model_DT = DecisionTreeClassifier(random_state=1)\n",
    "cv = RepeatedStratifiedKFold(n_splits=10, n_repeats=3, random_state=1)\n",
    "\n",
    "space_DT = {\n",
    "    'criterion': ['gini', 'entropy'],\n",
    "    'splitter': ['best', 'random'],\n",
    "    'max_depth': [20, 30, 40, 50, 60, 70, 80, 90, 100],\n",
    "    'min_samples_leaf': [2, 4, 6, 8],\n",
    "    'min_samples_split': [2, 5, 10],\n",
    "}\n",
    "\n",
    "search_DT = RandomizedSearchCV(\n",
    "    model_DT,\n",
    "    space_DT, \n",
    "    n_iter=500, \n",
    "    scoring='accuracy', \n",
    "    n_jobs=-1, \n",
    "    cv=cv, \n",
    "    refit=False, \n",
    "    random_state=1\n",
    ")\n",
    "\n",
    "result_DT = search_DT.fit(X, y)\n",
    "\n",
    "# лучшие параметры модели\n",
    "result_DT.best_params_, result_DT.best_score_"
   ]
  },
  {
   "cell_type": "code",
   "execution_count": 34,
   "id": "01939d2d",
   "metadata": {},
   "outputs": [
    {
     "name": "stdout",
     "output_type": "stream",
     "text": [
      "Accuracy for Random Tree model on 10-fold CV: 0.8950 +- 0.0161\n"
     ]
    }
   ],
   "source": [
    "# строим модель с наилучшими параметрами, подобранными на предыдущем шаге, и тестируем на кросс-валидационной выборке\n",
    "\n",
    "model4 = DecisionTreeClassifier(\n",
    "    splitter='best', min_samples_split=2, min_samples_leaf=8, max_depth=20, criterion='entropy', random_state=1)\n",
    "\n",
    "scores4 = cross_val_score(model4, X, y, cv=10)\n",
    "\n",
    "print('Accuracy for Decision Tree model on 10-fold CV: {:.4f} +- {:.4f}'.format(scores4.mean(), scores4.std()))"
   ]
  },
  {
   "cell_type": "code",
   "execution_count": null,
   "id": "68e14457",
   "metadata": {},
   "outputs": [],
   "source": []
  }
 ],
 "metadata": {
  "kernelspec": {
   "display_name": "Python 3",
   "language": "python",
   "name": "python3"
  },
  "language_info": {
   "codemirror_mode": {
    "name": "ipython",
    "version": 3
   },
   "file_extension": ".py",
   "mimetype": "text/x-python",
   "name": "python",
   "nbconvert_exporter": "python",
   "pygments_lexer": "ipython3",
   "version": "3.8.8"
  }
 },
 "nbformat": 4,
 "nbformat_minor": 5
}

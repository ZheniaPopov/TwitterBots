{
 "cells": [
  {
   "cell_type": "code",
   "execution_count": 1,
   "id": "98c00c6f",
   "metadata": {},
   "outputs": [
    {
     "ename": "ModuleNotFoundError",
     "evalue": "No module named 'twitter'",
     "output_type": "error",
     "traceback": [
      "\u001b[1;31m---------------------------------------------------------------------------\u001b[0m",
      "\u001b[1;31mModuleNotFoundError\u001b[0m                       Traceback (most recent call last)",
      "\u001b[1;32m<ipython-input-1-d42aacb79c75>\u001b[0m in \u001b[0;36m<module>\u001b[1;34m\u001b[0m\n\u001b[0;32m      2\u001b[0m \u001b[1;32mimport\u001b[0m \u001b[0mnumpy\u001b[0m \u001b[1;32mas\u001b[0m \u001b[0mnp\u001b[0m\u001b[1;33m\u001b[0m\u001b[1;33m\u001b[0m\u001b[0m\n\u001b[0;32m      3\u001b[0m \u001b[1;33m\u001b[0m\u001b[0m\n\u001b[1;32m----> 4\u001b[1;33m \u001b[1;32mimport\u001b[0m \u001b[0mtwitter\u001b[0m\u001b[1;33m\u001b[0m\u001b[1;33m\u001b[0m\u001b[0m\n\u001b[0m\u001b[0;32m      5\u001b[0m \u001b[1;32mimport\u001b[0m \u001b[0mrequests\u001b[0m\u001b[1;33m\u001b[0m\u001b[1;33m\u001b[0m\u001b[0m\n\u001b[0;32m      6\u001b[0m \u001b[1;33m\u001b[0m\u001b[0m\n",
      "\u001b[1;31mModuleNotFoundError\u001b[0m: No module named 'twitter'"
     ]
    }
   ],
   "source": [
    "import pandas as pd\n",
    "import numpy as np\n",
    "\n",
    "import twitter\n",
    "import requests\n",
    "\n",
    "from sqlalchemy import create_engine\n",
    "\n",
    "import os\n",
    "import yaml\n",
    "\n",
    "import json\n",
    "from IPython.display import display"
   ]
  },
  {
   "cell_type": "code",
   "execution_count": 2,
   "id": "b04be03c",
   "metadata": {},
   "outputs": [],
   "source": [
    "pd.set_option(\"display.max_rows\", 100)\n",
    "pd.set_option(\"display.max_columns\", 100)"
   ]
  },
  {
   "cell_type": "code",
   "execution_count": 3,
   "id": "768d1dcf",
   "metadata": {},
   "outputs": [],
   "source": [
    "# здесь можно настроить поля, информацию по которым хотим получить для пользователя\n",
    "# используем все доступные из списка документации\n",
    "\n",
    "fields = [\n",
    "    'created_at',\n",
    "    'description',\n",
    "#     'entities',\n",
    "    'id',\n",
    "    'location',\n",
    "    'name',\n",
    "    'pinned_tweet_id',\n",
    "    'profile_image_url',\n",
    "    'protected',\n",
    "    'public_metrics', \n",
    "    'url',\n",
    "    'username',\n",
    "    'verified',\n",
    "    'withheld'\n",
    "]\n",
    "\n",
    "# строим строку конфигурации полей, которую затем будем использовать при формировании запроса для обращения к API\n",
    "fields_str = ','.join(fields)\n",
    "user_fields = \"user.fields={}\".format(fields_str)"
   ]
  },
  {
   "cell_type": "code",
   "execution_count": 4,
   "id": "421397a6",
   "metadata": {},
   "outputs": [
    {
     "ename": "NameError",
     "evalue": "name 'yaml' is not defined",
     "output_type": "error",
     "traceback": [
      "\u001b[1;31m---------------------------------------------------------------------------\u001b[0m",
      "\u001b[1;31mNameError\u001b[0m                                 Traceback (most recent call last)",
      "\u001b[1;32m<ipython-input-4-bc96a513fe4f>\u001b[0m in \u001b[0;36m<module>\u001b[1;34m\u001b[0m\n\u001b[0;32m      3\u001b[0m \u001b[1;33m\u001b[0m\u001b[0m\n\u001b[0;32m      4\u001b[0m \u001b[1;32mwith\u001b[0m \u001b[0mopen\u001b[0m\u001b[1;33m(\u001b[0m\u001b[1;34m'../config/credentials.yaml'\u001b[0m\u001b[1;33m)\u001b[0m \u001b[1;32mas\u001b[0m \u001b[0mf\u001b[0m\u001b[1;33m:\u001b[0m\u001b[1;33m\u001b[0m\u001b[1;33m\u001b[0m\u001b[0m\n\u001b[1;32m----> 5\u001b[1;33m     \u001b[0mconfig\u001b[0m \u001b[1;33m=\u001b[0m \u001b[0myaml\u001b[0m\u001b[1;33m.\u001b[0m\u001b[0mload\u001b[0m\u001b[1;33m(\u001b[0m\u001b[0mf\u001b[0m\u001b[1;33m,\u001b[0m \u001b[0mLoader\u001b[0m\u001b[1;33m=\u001b[0m\u001b[0myaml\u001b[0m\u001b[1;33m.\u001b[0m\u001b[0mFullLoader\u001b[0m\u001b[1;33m)\u001b[0m\u001b[1;33m\u001b[0m\u001b[1;33m\u001b[0m\u001b[0m\n\u001b[0m\u001b[0;32m      6\u001b[0m \u001b[1;33m\u001b[0m\u001b[0m\n\u001b[0;32m      7\u001b[0m \u001b[0mbearer_token\u001b[0m \u001b[1;33m=\u001b[0m \u001b[0mconfig\u001b[0m\u001b[1;33m[\u001b[0m\u001b[1;34m'bearer_token'\u001b[0m\u001b[1;33m]\u001b[0m\u001b[1;33m\u001b[0m\u001b[1;33m\u001b[0m\u001b[0m\n",
      "\u001b[1;31mNameError\u001b[0m: name 'yaml' is not defined"
     ]
    }
   ],
   "source": [
    "# для доступа к API также необходимо использовать bearer_token, полученный при регистрации приложения в Twitter\n",
    "\n",
    "\n",
    "with open('../config/credentials.yaml') as f:\n",
    "    config = yaml.load(f, Loader=yaml.FullLoader)\n",
    "\n",
    "bearer_token = config['bearer_token']\n",
    "headers = {\"Authorization\": \"Bearer {}\".format(bearer_token)}"
   ]
  },
  {
   "cell_type": "code",
   "execution_count": 5,
   "id": "a708dbf6",
   "metadata": {},
   "outputs": [],
   "source": [
    "def get_users_by_id(ids_list, user_fields, headers):\n",
    "    # ids_list - список ИД пользователей, информацию для которых нужно получить\n",
    "    # user_fields - список полей, которые нужно получить\n",
    "    # headers - хидер для доступа к методам API\n",
    "    \n",
    "    # https://api.twitter.com/2/users?ids=... - API эндпойнт, который взвращает информацию о пользователях по списку их ИД\n",
    "    # одновременно принимает максимум 100 ИД\n",
    "    \n",
    "    ids_str = ','.join(ids_list)\n",
    "    ids = \"ids={}\".format(ids_str)\n",
    "    get_users_by_id = \"https://api.twitter.com/2/users?{}&{}\".format(ids, user_fields)\n",
    "    \n",
    "    # ответ от эндпойнта с информацией о пользователях\n",
    "    response = requests.request(\"GET\", get_users_by_id, headers=headers)\n",
    "    if response.status_code == 200:\n",
    "        result = json.loads(response.content)['data']\n",
    "        return result\n",
    "    \n",
    "    print(response.text)\n",
    "    return []"
   ]
  },
  {
   "cell_type": "code",
   "execution_count": 6,
   "id": "54aedde1",
   "metadata": {},
   "outputs": [
    {
     "name": "stdout",
     "output_type": "stream",
     "text": [
      "(2797, 20)\n"
     ]
    },
    {
     "data": {
      "text/html": [
       "<div>\n",
       "<style scoped>\n",
       "    .dataframe tbody tr th:only-of-type {\n",
       "        vertical-align: middle;\n",
       "    }\n",
       "\n",
       "    .dataframe tbody tr th {\n",
       "        vertical-align: top;\n",
       "    }\n",
       "\n",
       "    .dataframe thead th {\n",
       "        text-align: right;\n",
       "    }\n",
       "</style>\n",
       "<table border=\"1\" class=\"dataframe\">\n",
       "  <thead>\n",
       "    <tr style=\"text-align: right;\">\n",
       "      <th></th>\n",
       "      <th>id</th>\n",
       "      <th>id_str</th>\n",
       "      <th>screen_name</th>\n",
       "      <th>location</th>\n",
       "      <th>description</th>\n",
       "      <th>url</th>\n",
       "      <th>followers_count</th>\n",
       "      <th>friends_count</th>\n",
       "      <th>listed_count</th>\n",
       "      <th>created_at</th>\n",
       "      <th>favourites_count</th>\n",
       "      <th>verified</th>\n",
       "      <th>statuses_count</th>\n",
       "      <th>lang</th>\n",
       "      <th>status</th>\n",
       "      <th>default_profile</th>\n",
       "      <th>default_profile_image</th>\n",
       "      <th>has_extended_profile</th>\n",
       "      <th>name</th>\n",
       "      <th>bot</th>\n",
       "    </tr>\n",
       "  </thead>\n",
       "  <tbody>\n",
       "    <tr>\n",
       "      <th>0</th>\n",
       "      <td>8.160000e+17</td>\n",
       "      <td>\"815745789754417152\"</td>\n",
       "      <td>\"HoustonPokeMap\"</td>\n",
       "      <td>\"Houston, TX\"</td>\n",
       "      <td>\"Rare and strong PokŽmon in Houston, TX. See m...</td>\n",
       "      <td>\"https://t.co/dnWuDbFRkt\"</td>\n",
       "      <td>1291</td>\n",
       "      <td>0</td>\n",
       "      <td>10</td>\n",
       "      <td>\"Mon Jan 02 02:25:26 +0000 2017\"</td>\n",
       "      <td>0</td>\n",
       "      <td>False</td>\n",
       "      <td>78554</td>\n",
       "      <td>\"en\"</td>\n",
       "      <td>{\\r      \"created_at\": \"Sun Mar 12 15:44:04 +0...</td>\n",
       "      <td>True</td>\n",
       "      <td>False</td>\n",
       "      <td>False</td>\n",
       "      <td>\"Houston PokŽ Alert\"</td>\n",
       "      <td>1</td>\n",
       "    </tr>\n",
       "    <tr>\n",
       "      <th>1</th>\n",
       "      <td>4.843621e+09</td>\n",
       "      <td>4843621225</td>\n",
       "      <td>kernyeahx</td>\n",
       "      <td>Templeville town, MD, USA</td>\n",
       "      <td>From late 2014 Socium Marketplace will make sh...</td>\n",
       "      <td>NaN</td>\n",
       "      <td>1</td>\n",
       "      <td>349</td>\n",
       "      <td>0</td>\n",
       "      <td>2/1/2016 7:37</td>\n",
       "      <td>38</td>\n",
       "      <td>False</td>\n",
       "      <td>31</td>\n",
       "      <td>en</td>\n",
       "      <td>NaN</td>\n",
       "      <td>True</td>\n",
       "      <td>False</td>\n",
       "      <td>False</td>\n",
       "      <td>Keri Nelson</td>\n",
       "      <td>1</td>\n",
       "    </tr>\n",
       "    <tr>\n",
       "      <th>2</th>\n",
       "      <td>4.303727e+09</td>\n",
       "      <td>4303727112</td>\n",
       "      <td>mattlieberisbot</td>\n",
       "      <td>NaN</td>\n",
       "      <td>Inspired by the smart, funny folks at @replyal...</td>\n",
       "      <td>https://t.co/P1e1o0m4KC</td>\n",
       "      <td>1086</td>\n",
       "      <td>0</td>\n",
       "      <td>14</td>\n",
       "      <td>Fri Nov 20 18:53:22 +0000 2015</td>\n",
       "      <td>0</td>\n",
       "      <td>False</td>\n",
       "      <td>713</td>\n",
       "      <td>en</td>\n",
       "      <td>{'retweeted': False, 'is_quote_status': False,...</td>\n",
       "      <td>True</td>\n",
       "      <td>False</td>\n",
       "      <td>False</td>\n",
       "      <td>Matt Lieber Is Bot</td>\n",
       "      <td>1</td>\n",
       "    </tr>\n",
       "  </tbody>\n",
       "</table>\n",
       "</div>"
      ],
      "text/plain": [
       "             id                id_str       screen_name  \\\n",
       "0  8.160000e+17  \"815745789754417152\"  \"HoustonPokeMap\"   \n",
       "1  4.843621e+09            4843621225         kernyeahx   \n",
       "2  4.303727e+09            4303727112   mattlieberisbot   \n",
       "\n",
       "                    location  \\\n",
       "0              \"Houston, TX\"   \n",
       "1  Templeville town, MD, USA   \n",
       "2                        NaN   \n",
       "\n",
       "                                         description  \\\n",
       "0  \"Rare and strong PokŽmon in Houston, TX. See m...   \n",
       "1  From late 2014 Socium Marketplace will make sh...   \n",
       "2  Inspired by the smart, funny folks at @replyal...   \n",
       "\n",
       "                         url  followers_count  friends_count  listed_count  \\\n",
       "0  \"https://t.co/dnWuDbFRkt\"             1291              0            10   \n",
       "1                        NaN                1            349             0   \n",
       "2    https://t.co/P1e1o0m4KC             1086              0            14   \n",
       "\n",
       "                         created_at  favourites_count  verified  \\\n",
       "0  \"Mon Jan 02 02:25:26 +0000 2017\"                 0     False   \n",
       "1                     2/1/2016 7:37                38     False   \n",
       "2    Fri Nov 20 18:53:22 +0000 2015                 0     False   \n",
       "\n",
       "   statuses_count  lang                                             status  \\\n",
       "0           78554  \"en\"  {\\r      \"created_at\": \"Sun Mar 12 15:44:04 +0...   \n",
       "1              31    en                                                NaN   \n",
       "2             713    en  {'retweeted': False, 'is_quote_status': False,...   \n",
       "\n",
       "   default_profile  default_profile_image has_extended_profile  \\\n",
       "0             True                  False                False   \n",
       "1             True                  False                False   \n",
       "2             True                  False                False   \n",
       "\n",
       "                   name  bot  \n",
       "0  \"Houston PokŽ Alert\"    1  \n",
       "1           Keri Nelson    1  \n",
       "2    Matt Lieber Is Bot    1  "
      ]
     },
     "execution_count": 6,
     "metadata": {},
     "output_type": "execute_result"
    }
   ],
   "source": [
    "df = pd.read_csv('../data/input/training_data.csv')\n",
    "\n",
    "print(df.shape)\n",
    "df.head(3)"
   ]
  },
  {
   "cell_type": "code",
   "execution_count": 7,
   "id": "a12bda4b",
   "metadata": {},
   "outputs": [
    {
     "data": {
      "text/plain": [
       "(2331, 20)"
      ]
     },
     "execution_count": 7,
     "metadata": {},
     "output_type": "execute_result"
    }
   ],
   "source": [
    "# удаляем дубликаты пользователей по id_str\n",
    "\n",
    "df = df.drop_duplicates(['id_str'], keep=False)\n",
    "df.shape"
   ]
  },
  {
   "cell_type": "code",
   "execution_count": 8,
   "id": "66f6a1d5",
   "metadata": {},
   "outputs": [],
   "source": [
    "# преобразуем формат ИД пользователя из scientific notation (e+09 etc.) в строку, чтобы осуществлять запросы к Twitter API\n",
    "\n",
    "df['id_str'] = df['id'].map(int).map(str)\n",
    "\n",
    "ids_for_request = df['id_str'].values.tolist()"
   ]
  },
  {
   "cell_type": "code",
   "execution_count": 9,
   "id": "4ef717a6",
   "metadata": {},
   "outputs": [
    {
     "data": {
      "text/plain": [
       "(24, 100)"
      ]
     },
     "execution_count": 9,
     "metadata": {},
     "output_type": "execute_result"
    }
   ],
   "source": [
    "# определяем, сколько итераций цикла нужно сделать, чтобы получить информацию о пользователях\n",
    "\n",
    "n_requests = int(np.ceil(len(ids_for_request) / 100))\n",
    "step = 100\n",
    "n_requests, step"
   ]
  },
  {
   "cell_type": "code",
   "execution_count": 10,
   "id": "03e2ceb2",
   "metadata": {},
   "outputs": [
    {
     "name": "stdout",
     "output_type": "stream",
     "text": [
      "Info about 2021 users found\n"
     ]
    }
   ],
   "source": [
    "# в цикле передаем методу, который получает информацию о пользователях, по 100 ИД итеративно, \n",
    "# пока не получим информацию для всех 2797 пользователей\n",
    "\n",
    "n_steps = 0\n",
    "users_results = []\n",
    "for i in range(n_requests):\n",
    "    ids_slice = ids_for_request[n_steps * step : (n_steps + 1) * step]\n",
    "    slice_results = get_users_by_id(ids_slice, user_fields, headers)\n",
    "    users_results.extend(slice_results)\n",
    "    n_steps += 1\n",
    "    \n",
    "print('Info about {} users found'.format(len(users_results)))"
   ]
  },
  {
   "cell_type": "code",
   "execution_count": 11,
   "id": "19fca5a8",
   "metadata": {},
   "outputs": [
    {
     "name": "stdout",
     "output_type": "stream",
     "text": [
      "(2021, 12)\n"
     ]
    },
    {
     "data": {
      "text/html": [
       "<div>\n",
       "<style scoped>\n",
       "    .dataframe tbody tr th:only-of-type {\n",
       "        vertical-align: middle;\n",
       "    }\n",
       "\n",
       "    .dataframe tbody tr th {\n",
       "        vertical-align: top;\n",
       "    }\n",
       "\n",
       "    .dataframe thead th {\n",
       "        text-align: right;\n",
       "    }\n",
       "</style>\n",
       "<table border=\"1\" class=\"dataframe\">\n",
       "  <thead>\n",
       "    <tr style=\"text-align: right;\">\n",
       "      <th></th>\n",
       "      <th>name</th>\n",
       "      <th>username</th>\n",
       "      <th>description</th>\n",
       "      <th>verified</th>\n",
       "      <th>url</th>\n",
       "      <th>profile_image_url</th>\n",
       "      <th>public_metrics</th>\n",
       "      <th>created_at</th>\n",
       "      <th>id</th>\n",
       "      <th>protected</th>\n",
       "      <th>location</th>\n",
       "      <th>pinned_tweet_id</th>\n",
       "    </tr>\n",
       "  </thead>\n",
       "  <tbody>\n",
       "    <tr>\n",
       "      <th>0</th>\n",
       "      <td>Matt Lieber Is Bot</td>\n",
       "      <td>mattlieberisbot</td>\n",
       "      <td>Retired, for good this time • Inspired by the ...</td>\n",
       "      <td>False</td>\n",
       "      <td>https://t.co/oQKxig8kMF</td>\n",
       "      <td>https://pbs.twimg.com/profile_images/671119389...</td>\n",
       "      <td>{'followers_count': 876, 'following_count': 0,...</td>\n",
       "      <td>2015-11-20T18:53:22.000Z</td>\n",
       "      <td>4303727112</td>\n",
       "      <td>False</td>\n",
       "      <td>NaN</td>\n",
       "      <td>NaN</td>\n",
       "    </tr>\n",
       "    <tr>\n",
       "      <th>1</th>\n",
       "      <td>single cell papers</td>\n",
       "      <td>sc_papers</td>\n",
       "      <td></td>\n",
       "      <td>False</td>\n",
       "      <td></td>\n",
       "      <td>https://abs.twimg.com/sticky/default_profile_i...</td>\n",
       "      <td>{'followers_count': 325, 'following_count': 0,...</td>\n",
       "      <td>2015-02-25T20:11:25.000Z</td>\n",
       "      <td>3063139353</td>\n",
       "      <td>False</td>\n",
       "      <td>NaN</td>\n",
       "      <td>NaN</td>\n",
       "    </tr>\n",
       "  </tbody>\n",
       "</table>\n",
       "</div>"
      ],
      "text/plain": [
       "                 name         username  \\\n",
       "0  Matt Lieber Is Bot  mattlieberisbot   \n",
       "1  single cell papers        sc_papers   \n",
       "\n",
       "                                         description  verified  \\\n",
       "0  Retired, for good this time • Inspired by the ...     False   \n",
       "1                                                        False   \n",
       "\n",
       "                       url                                  profile_image_url  \\\n",
       "0  https://t.co/oQKxig8kMF  https://pbs.twimg.com/profile_images/671119389...   \n",
       "1                           https://abs.twimg.com/sticky/default_profile_i...   \n",
       "\n",
       "                                      public_metrics  \\\n",
       "0  {'followers_count': 876, 'following_count': 0,...   \n",
       "1  {'followers_count': 325, 'following_count': 0,...   \n",
       "\n",
       "                 created_at          id  protected location pinned_tweet_id  \n",
       "0  2015-11-20T18:53:22.000Z  4303727112      False      NaN             NaN  \n",
       "1  2015-02-25T20:11:25.000Z  3063139353      False      NaN             NaN  "
      ]
     },
     "execution_count": 11,
     "metadata": {},
     "output_type": "execute_result"
    }
   ],
   "source": [
    "df_users = pd.DataFrame(users_results)\n",
    "\n",
    "print(df_users.shape)\n",
    "df_users.head(2)"
   ]
  },
  {
   "cell_type": "code",
   "execution_count": 12,
   "id": "1901dd23",
   "metadata": {},
   "outputs": [],
   "source": [
    "# парсим структуру public_metrics, чтобы получить данные о кол-ве друзей, твитов и т.д.\n",
    "\n",
    "def parse_public_metrices(df):\n",
    "    extension = df['public_metrics'].apply(pd.Series)\n",
    "    ext_df = pd.concat([df, extension], axis=1).drop('public_metrics', axis=1)\n",
    "    return ext_df"
   ]
  },
  {
   "cell_type": "code",
   "execution_count": 13,
   "id": "fe1e0c89",
   "metadata": {},
   "outputs": [],
   "source": [
    "df_parsed_users = parse_public_metrices(df_users)"
   ]
  },
  {
   "cell_type": "code",
   "execution_count": 14,
   "id": "65000e05",
   "metadata": {},
   "outputs": [
    {
     "name": "stdout",
     "output_type": "stream",
     "text": [
      "2019 users found in Twitter\n"
     ]
    },
    {
     "data": {
      "text/html": [
       "<div>\n",
       "<style scoped>\n",
       "    .dataframe tbody tr th:only-of-type {\n",
       "        vertical-align: middle;\n",
       "    }\n",
       "\n",
       "    .dataframe tbody tr th {\n",
       "        vertical-align: top;\n",
       "    }\n",
       "\n",
       "    .dataframe thead th {\n",
       "        text-align: right;\n",
       "    }\n",
       "</style>\n",
       "<table border=\"1\" class=\"dataframe\">\n",
       "  <thead>\n",
       "    <tr style=\"text-align: right;\">\n",
       "      <th></th>\n",
       "      <th>name</th>\n",
       "      <th>username</th>\n",
       "      <th>description</th>\n",
       "      <th>verified</th>\n",
       "      <th>url</th>\n",
       "      <th>profile_image_url</th>\n",
       "      <th>created_at</th>\n",
       "      <th>id</th>\n",
       "      <th>protected</th>\n",
       "      <th>location</th>\n",
       "      <th>pinned_tweet_id</th>\n",
       "      <th>followers_count</th>\n",
       "      <th>following_count</th>\n",
       "      <th>tweet_count</th>\n",
       "      <th>listed_count</th>\n",
       "      <th>bot</th>\n",
       "    </tr>\n",
       "  </thead>\n",
       "  <tbody>\n",
       "    <tr>\n",
       "      <th>0</th>\n",
       "      <td>Matt Lieber Is Bot</td>\n",
       "      <td>mattlieberisbot</td>\n",
       "      <td>Retired, for good this time • Inspired by the ...</td>\n",
       "      <td>False</td>\n",
       "      <td>https://t.co/oQKxig8kMF</td>\n",
       "      <td>https://pbs.twimg.com/profile_images/671119389...</td>\n",
       "      <td>2015-11-20T18:53:22.000Z</td>\n",
       "      <td>4303727112</td>\n",
       "      <td>False</td>\n",
       "      <td>NaN</td>\n",
       "      <td>NaN</td>\n",
       "      <td>876</td>\n",
       "      <td>0</td>\n",
       "      <td>1182</td>\n",
       "      <td>16</td>\n",
       "      <td>1</td>\n",
       "    </tr>\n",
       "    <tr>\n",
       "      <th>1</th>\n",
       "      <td>single cell papers</td>\n",
       "      <td>sc_papers</td>\n",
       "      <td></td>\n",
       "      <td>False</td>\n",
       "      <td></td>\n",
       "      <td>https://abs.twimg.com/sticky/default_profile_i...</td>\n",
       "      <td>2015-02-25T20:11:25.000Z</td>\n",
       "      <td>3063139353</td>\n",
       "      <td>False</td>\n",
       "      <td>NaN</td>\n",
       "      <td>NaN</td>\n",
       "      <td>325</td>\n",
       "      <td>0</td>\n",
       "      <td>4031</td>\n",
       "      <td>12</td>\n",
       "      <td>1</td>\n",
       "    </tr>\n",
       "  </tbody>\n",
       "</table>\n",
       "</div>"
      ],
      "text/plain": [
       "                 name         username  \\\n",
       "0  Matt Lieber Is Bot  mattlieberisbot   \n",
       "1  single cell papers        sc_papers   \n",
       "\n",
       "                                         description  verified  \\\n",
       "0  Retired, for good this time • Inspired by the ...     False   \n",
       "1                                                        False   \n",
       "\n",
       "                       url                                  profile_image_url  \\\n",
       "0  https://t.co/oQKxig8kMF  https://pbs.twimg.com/profile_images/671119389...   \n",
       "1                           https://abs.twimg.com/sticky/default_profile_i...   \n",
       "\n",
       "                 created_at          id  protected location pinned_tweet_id  \\\n",
       "0  2015-11-20T18:53:22.000Z  4303727112      False      NaN             NaN   \n",
       "1  2015-02-25T20:11:25.000Z  3063139353      False      NaN             NaN   \n",
       "\n",
       "   followers_count  following_count  tweet_count  listed_count  bot  \n",
       "0              876                0         1182            16    1  \n",
       "1              325                0         4031            12    1  "
      ]
     },
     "execution_count": 14,
     "metadata": {},
     "output_type": "execute_result"
    }
   ],
   "source": [
    "df_parsed_users['id']= df_parsed_users['id'].astype('str')\n",
    "\n",
    "df_merged = df_parsed_users.merge(\n",
    "    df[['id_str', 'bot']],\n",
    "    left_on='id',\n",
    "    right_on='id_str',\n",
    "    how='inner'\n",
    ").drop_duplicates(['id_str'], keep=False).drop(['id_str'], axis=1)\n",
    "\n",
    "print('{} users found in Twitter'.format(df_merged.shape[0]))\n",
    "df_merged.head(2)"
   ]
  },
  {
   "cell_type": "code",
   "execution_count": 15,
   "id": "ccfe809f",
   "metadata": {},
   "outputs": [],
   "source": [
    "# создаем папку под базу данных\n",
    "if not os.path.exists('../data/db'):\n",
    "    os.makedirs('../data/db')\n",
    "\n",
    "# создаем базу для результатов и сохраняем данные о пользователях\n",
    "DB_FOLDER = 'sqlite:///../data/db/'\n",
    "DB_NAME = 'twitter_users.db'\n",
    "DB_PATH = DB_FOLDER + DB_NAME\n",
    "\n",
    "TABLE_NAME = 'users'\n",
    "\n",
    "engine = create_engine(DB_PATH)\n",
    "df_merged.to_sql(TABLE_NAME, engine, if_exists='replace', index=False)"
   ]
  },
  {
   "cell_type": "code",
   "execution_count": null,
   "id": "839027a4",
   "metadata": {},
   "outputs": [],
   "source": []
  }
 ],
 "metadata": {
  "kernelspec": {
   "display_name": "Python 3",
   "language": "python",
   "name": "python3"
  },
  "language_info": {
   "codemirror_mode": {
    "name": "ipython",
    "version": 3
   },
   "file_extension": ".py",
   "mimetype": "text/x-python",
   "name": "python",
   "nbconvert_exporter": "python",
   "pygments_lexer": "ipython3",
   "version": "3.8.8"
  }
 },
 "nbformat": 4,
 "nbformat_minor": 5
}
